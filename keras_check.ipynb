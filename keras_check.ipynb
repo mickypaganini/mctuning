{
 "cells": [
  {
   "cell_type": "markdown",
   "metadata": {},
   "source": [
    "# Load data"
   ]
  },
  {
   "cell_type": "code",
   "execution_count": 1,
   "metadata": {},
   "outputs": [
    {
     "name": "stdout",
     "output_type": "stream",
     "text": [
      "total 40G\r\n",
      "-rw-r--r-- 1 mpaganini users 594M Mar 22 23:03 dataset_val_ca2044e.h5\r\n",
      "-rw-r--r-- 1 mpaganini users 594M Mar 22 22:33 dataset_train_ca2044e.h5\r\n",
      "-rw-r--r-- 1 mpaganini users 595M Mar 22 22:04 dataset_test_ca2044e.h5\r\n",
      "-rw-r--r-- 1 mpaganini users 594M Mar 22 17:37 dataset_val_e1152e3.h5\r\n",
      "-rw-r--r-- 1 mpaganini users 592M Mar 22 17:12 dataset_train_e1152e3.h5\r\n",
      "-rw-r--r-- 1 mpaganini users 594M Mar 22 16:47 dataset_test_e1152e3.h5\r\n",
      "-rw-r--r-- 1 mpaganini users 5.8G Mar 14 01:03 dataset_test_c48e913.h5\r\n",
      "-rw-r--r-- 1 mpaganini users 5.8G Mar 14 00:45 dataset_val_c48e913.h5\r\n",
      "-rw-r--r-- 1 mpaganini users 5.8G Mar 14 00:27 dataset_train_c48e913.h5\r\n",
      "-rw-r--r-- 1 mpaganini users 5.8G Mar 14 00:08 dataset_test_894c1bb.h5\r\n",
      "-rw-r--r-- 1 mpaganini users 5.9G Mar 13 23:28 dataset_val_894c1bb.h5\r\n",
      "-rw-r--r-- 1 mpaganini users 5.8G Mar 13 22:48 dataset_train_894c1bb.h5\r\n",
      "drwxr-xr-x 2 mpaganini users 4.0K Mar 13 21:40 old\r\n",
      "-rw-r--r-- 1 mpaganini users 595M Mar 13 21:33 dataset_test_0d64b32.h5\r\n",
      "-rw-r--r-- 1 mpaganini users 592M Mar 13 21:32 dataset_val_0d64b32.h5\r\n",
      "-rw-r--r-- 1 mpaganini users 599M Mar 13 21:30 dataset_train_0d64b32.h5\r\n",
      "-rw-r--r-- 1 mpaganini users 6.3M Mar  3 15:32 dataset_test_458bf53.h5\r\n",
      "-rw-r--r-- 1 mpaganini users 6.2M Mar  3 15:32 dataset_val_458bf53.h5\r\n",
      "-rw-r--r-- 1 mpaganini users 5.9M Mar  3 15:32 dataset_train_458bf53.h5\r\n",
      "-rw-r--r-- 1 mpaganini users 6.5M Mar  3 15:14 dataset_test_4132472.h5\r\n",
      "-rw-r--r-- 1 mpaganini users 5.9M Mar  3 15:14 dataset_val_4132472.h5\r\n",
      "-rw-r--r-- 1 mpaganini users 5.7M Mar  3 15:14 dataset_train_4132472.h5\r\n"
     ]
    }
   ],
   "source": [
    "!ls -lht data/"
   ]
  },
  {
   "cell_type": "code",
   "execution_count": 2,
   "metadata": {},
   "outputs": [
    {
     "name": "stderr",
     "output_type": "stream",
     "text": [
      "/home/mpaganini/venv/mctuning/lib/python2.7/site-packages/h5py/__init__.py:36: FutureWarning: Conversion of the second argument of issubdtype from `float` to `np.floating` is deprecated. In future, it will be treated as `np.float64 == np.dtype(float).type`.\n",
      "  from ._conv import register_converters as _register_converters\n"
     ]
    }
   ],
   "source": [
    "import h5py\n",
    "import numpy as np"
   ]
  },
  {
   "cell_type": "code",
   "execution_count": 3,
   "metadata": {},
   "outputs": [],
   "source": [
    "def load_data(filepath):\n",
    "    with h5py.File(filepath) as f:\n",
    "        def convert(x):\n",
    "            if len(x.shape) > 0:\n",
    "                return np.array(x[:])\n",
    "            return x\n",
    "        d = {key : convert(f[key]) for key in f.keys()}\n",
    "        d['nevents'] = int(d['nevents'].value)\n",
    "    return d"
   ]
  },
  {
   "cell_type": "code",
   "execution_count": 4,
   "metadata": {},
   "outputs": [],
   "source": [
    "# mu = 1.0\n",
    "d_train_0 = load_data('./data/dataset_train_e1152e3.h5')\n",
    "d_test_0 = load_data('./data/dataset_test_e1152e3.h5')\n",
    "d_val_0 = load_data('./data/dataset_val_e1152e3.h5')\n",
    "# mu = 2.0\n",
    "d_train_1 = load_data('./data/dataset_train_ca2044e.h5')\n",
    "d_test_1 = load_data('./data/dataset_test_ca2044e.h5')\n",
    "d_val_1 = load_data('./data/dataset_val_ca2044e.h5')"
   ]
  },
  {
   "cell_type": "code",
   "execution_count": 26,
   "metadata": {},
   "outputs": [],
   "source": [
    "def make_wxy(d0, d1):\n",
    "    X_ntrack = np.concatenate((d0['nparticles'], d1['nparticles']))\n",
    "    X_lead = np.concatenate((d0['leading_jet'], d1['leading_jet']))\n",
    "    X_sublead = np.concatenate((d0['subleading_jet'], d1['subleading_jet']))\n",
    "    y = np.concatenate(\n",
    "        (np.zeros(d0['leading_jet'].shape[0]), np.ones(d1['leading_jet'].shape[0]))\n",
    "    )\n",
    "    w = np.concatenate((d0['weights']['Baseline'], d1['weights']['Baseline']))\n",
    "    return X_ntrack, X_lead, X_sublead, y, w"
   ]
  },
  {
   "cell_type": "code",
   "execution_count": 27,
   "metadata": {},
   "outputs": [],
   "source": [
    "X_ntrack_train, X_lead_train, X_sublead_train, y_train, w_train = make_wxy(d_train_0, d_train_1)\n",
    "X_ntrack_val, X_lead_val, X_sublead_val, y_val, w_val = make_wxy(d_val_0, d_val_1)"
   ]
  },
  {
   "cell_type": "code",
   "execution_count": 7,
   "metadata": {},
   "outputs": [],
   "source": [
    "from sklearn.utils import shuffle"
   ]
  },
  {
   "cell_type": "code",
   "execution_count": 29,
   "metadata": {},
   "outputs": [],
   "source": [
    "X_ntrack_train, X_lead_train, X_sublead_train, y_train, w_train = shuffle(\n",
    "    X_ntrack_train, X_lead_train, X_sublead_train, y_train, w_train)\n",
    "X_ntrack_val, X_lead_val, X_sublead_val, y_val, w_val = shuffle(\n",
    "    X_ntrack_val, X_lead_val, X_sublead_val, y_val, w_val)"
   ]
  },
  {
   "cell_type": "code",
   "execution_count": 36,
   "metadata": {},
   "outputs": [],
   "source": [
    "X_ntrack_train = (X_ntrack_train - 50) / 100.\n",
    "X_ntrack_val = (X_ntrack_val - 50) / 100."
   ]
  },
  {
   "cell_type": "markdown",
   "metadata": {},
   "source": [
    "### Dataset stats"
   ]
  },
  {
   "cell_type": "code",
   "execution_count": 30,
   "metadata": {},
   "outputs": [
    {
     "name": "stdout",
     "output_type": "stream",
     "text": [
      "0.5020145420196731 0.5020145420196731\n"
     ]
    }
   ],
   "source": [
    "print y_train.mean(), y_train.mean()"
   ]
  },
  {
   "cell_type": "code",
   "execution_count": 31,
   "metadata": {},
   "outputs": [
    {
     "name": "stdout",
     "output_type": "stream",
     "text": [
      "-6.648112 5.1463146 0.008680125 0.4628737\n"
     ]
    }
   ],
   "source": [
    "print X_lead_train.min(), X_lead_train.max(), X_lead_train.mean(), X_lead_train.std()"
   ]
  },
  {
   "cell_type": "code",
   "execution_count": 32,
   "metadata": {},
   "outputs": [
    {
     "name": "stdout",
     "output_type": "stream",
     "text": [
      "-5.892642 5.895517 0.009669775 0.4608668\n"
     ]
    }
   ],
   "source": [
    "print X_lead_val.min(), X_lead_val.max(), X_lead_val.mean(), X_lead_val.std()"
   ]
  },
  {
   "cell_type": "code",
   "execution_count": 33,
   "metadata": {},
   "outputs": [
    {
     "name": "stdout",
     "output_type": "stream",
     "text": [
      "-6.9167986 6.4235067 0.009163888 0.46920964\n"
     ]
    }
   ],
   "source": [
    "print X_sublead_train.min(), X_sublead_train.max(), X_sublead_train.mean(), X_sublead_train.std()"
   ]
  },
  {
   "cell_type": "code",
   "execution_count": 34,
   "metadata": {},
   "outputs": [
    {
     "name": "stdout",
     "output_type": "stream",
     "text": [
      "-6.373785 6.0668316 0.008921437 0.47067508\n"
     ]
    }
   ],
   "source": [
    "print X_sublead_val.min(), X_sublead_val.max(), X_sublead_val.mean(), X_sublead_val.std()"
   ]
  },
  {
   "cell_type": "code",
   "execution_count": 37,
   "metadata": {},
   "outputs": [
    {
     "name": "stdout",
     "output_type": "stream",
     "text": [
      "-0.49 1.06 -0.059298787 0.18358342\n"
     ]
    }
   ],
   "source": [
    "print X_ntrack_train.min(), X_ntrack_train.max(), X_ntrack_train.mean(), X_ntrack_train.std()"
   ]
  },
  {
   "cell_type": "code",
   "execution_count": 38,
   "metadata": {},
   "outputs": [
    {
     "name": "stdout",
     "output_type": "stream",
     "text": [
      "-0.49 1.01 -0.058638915 0.18383569\n"
     ]
    }
   ],
   "source": [
    "print X_ntrack_val.min(), X_ntrack_val.max(), X_ntrack_val.mean(), X_ntrack_val.std()"
   ]
  },
  {
   "cell_type": "markdown",
   "metadata": {},
   "source": [
    "# Design RNN Model"
   ]
  },
  {
   "cell_type": "code",
   "execution_count": 155,
   "metadata": {},
   "outputs": [],
   "source": [
    "from keras.layers import Input, LSTM, Dropout, Bidirectional, concatenate, Masking, Dense\n",
    "from keras.models import Model\n",
    "from keras.callbacks import ModelCheckpoint, EarlyStopping"
   ]
  },
  {
   "cell_type": "code",
   "execution_count": 110,
   "metadata": {},
   "outputs": [],
   "source": [
    "x_lead = Input(X_lead_train.shape[1:])\n",
    "x_sublead = Input(X_sublead_train.shape[1:])\n",
    "\n",
    "masked_lead = Masking()(x_lead)\n",
    "masked_sublead = Masking()(x_sublead)"
   ]
  },
  {
   "cell_type": "code",
   "execution_count": 111,
   "metadata": {},
   "outputs": [],
   "source": [
    "lstm_lead = Bidirectional(LSTM(32, recurrent_dropout=0.2))(masked_lead)\n",
    "lstm_sublead = Bidirectional(LSTM(32, recurrent_dropout=0.2))(masked_sublead)\n",
    "h = concatenate([lstm_lead, lstm_sublead])\n",
    "h = Dropout(0.6)(h)\n",
    "h = Dense(128, activation='relu')(h)\n",
    "h = Dropout(0.6)(h)\n",
    "out = Dense(1, activation='sigmoid')(h)"
   ]
  },
  {
   "cell_type": "code",
   "execution_count": 112,
   "metadata": {},
   "outputs": [],
   "source": [
    "model = Model(inputs=[x_lead, x_sublead], outputs=out)"
   ]
  },
  {
   "cell_type": "code",
   "execution_count": 113,
   "metadata": {},
   "outputs": [],
   "source": [
    "model.compile('RMSprop', 'binary_crossentropy')"
   ]
  },
  {
   "cell_type": "code",
   "execution_count": 114,
   "metadata": {
    "scrolled": false
   },
   "outputs": [
    {
     "name": "stdout",
     "output_type": "stream",
     "text": [
      "Train on 171503 samples, validate on 171727 samples\n",
      "Epoch 1/20\n",
      "171503/171503 [==============================] - 169s 988us/step - loss: 0.6959 - val_loss: 0.6932\n",
      "Epoch 2/20\n",
      "171503/171503 [==============================] - 166s 969us/step - loss: 0.6934 - val_loss: 0.6933\n",
      "Epoch 3/20\n",
      "171503/171503 [==============================] - 167s 975us/step - loss: 0.6930 - val_loss: 0.6928\n",
      "Epoch 4/20\n",
      "171503/171503 [==============================] - 166s 970us/step - loss: 0.6923 - val_loss: 0.6924\n",
      "Epoch 5/20\n",
      "171503/171503 [==============================] - 166s 969us/step - loss: 0.6918 - val_loss: 0.6921\n",
      "Epoch 6/20\n",
      "171503/171503 [==============================] - 166s 970us/step - loss: 0.6914 - val_loss: 0.6919\n",
      "Epoch 7/20\n",
      "171503/171503 [==============================] - 166s 969us/step - loss: 0.6910 - val_loss: 0.6921\n",
      "Epoch 8/20\n",
      "171503/171503 [==============================] - 166s 969us/step - loss: 0.6904 - val_loss: 0.6918\n",
      "Epoch 9/20\n",
      "171503/171503 [==============================] - 166s 968us/step - loss: 0.6904 - val_loss: 0.6918\n",
      "Epoch 10/20\n",
      "171503/171503 [==============================] - 166s 969us/step - loss: 0.6901 - val_loss: 0.6917\n",
      "Epoch 11/20\n",
      "171503/171503 [==============================] - 166s 969us/step - loss: 0.6900 - val_loss: 0.6925\n",
      "Epoch 12/20\n",
      "171503/171503 [==============================] - 166s 970us/step - loss: 0.6896 - val_loss: 0.6919\n",
      "Epoch 13/20\n",
      "171503/171503 [==============================] - 166s 968us/step - loss: 0.6895 - val_loss: 0.6925\n",
      "Epoch 14/20\n",
      "171503/171503 [==============================] - 166s 969us/step - loss: 0.6890 - val_loss: 0.6926\n",
      "Epoch 15/20\n",
      "171503/171503 [==============================] - 166s 969us/step - loss: 0.6892 - val_loss: 0.6926\n",
      "Epoch 16/20\n",
      "171503/171503 [==============================] - 166s 967us/step - loss: 0.6888 - val_loss: 0.6920\n",
      "Epoch 17/20\n",
      "171503/171503 [==============================] - 166s 969us/step - loss: 0.6886 - val_loss: 0.6923\n",
      "Epoch 18/20\n",
      "171503/171503 [==============================] - 166s 969us/step - loss: 0.6886 - val_loss: 0.6930\n",
      "Epoch 19/20\n",
      "171503/171503 [==============================] - 166s 968us/step - loss: 0.6884 - val_loss: 0.6925\n",
      "Epoch 20/20\n",
      "171503/171503 [==============================] - 166s 971us/step - loss: 0.6878 - val_loss: 0.6922\n"
     ]
    },
    {
     "data": {
      "text/plain": [
       "<keras.callbacks.History at 0x1896e490>"
      ]
     },
     "execution_count": 114,
     "metadata": {},
     "output_type": "execute_result"
    }
   ],
   "source": [
    "model.fit([X_lead_train, X_sublead_train], y_train, sample_weight=w_train.ravel(), verbose=1, batch_size=128,\n",
    "          validation_data=([X_lead_val, X_sublead_val], y_val, w_val.ravel()),\n",
    "          callbacks=[\n",
    "                        ModelCheckpoint('rnn_best.h5', monitor='val_loss', verbose=1, save_best_only=True),\n",
    "                        EarlyStopping(monitor='val_loss', patience=20, verbose=1)\n",
    "\n",
    "                    ],\n",
    "          epochs=20)"
   ]
  },
  {
   "cell_type": "code",
   "execution_count": 42,
   "metadata": {},
   "outputs": [
    {
     "name": "stdout",
     "output_type": "stream",
     "text": [
      "171727/171727 [==============================] - 14s 84us/step\n"
     ]
    }
   ],
   "source": [
    "yhat_val = model.predict([X_lead_val, X_sublead_val], verbose=1, batch_size=1024)"
   ]
  },
  {
   "cell_type": "code",
   "execution_count": 43,
   "metadata": {},
   "outputs": [
    {
     "name": "stdout",
     "output_type": "stream",
     "text": [
      "171503/171503 [==============================] - 14s 82us/step\n"
     ]
    }
   ],
   "source": [
    "yhat_train = model.predict([X_lead_train, X_sublead_train], verbose=1, batch_size=1024)"
   ]
  },
  {
   "cell_type": "code",
   "execution_count": 44,
   "metadata": {},
   "outputs": [],
   "source": [
    "import matplotlib.pyplot as plt\n",
    "%matplotlib inline"
   ]
  },
  {
   "cell_type": "code",
   "execution_count": 48,
   "metadata": {},
   "outputs": [
    {
     "data": {
      "text/plain": [
       "(array([3.9600e+02, 2.8600e+02, 2.8600e+02, 3.1900e+02, 5.2800e+02,\n",
       "        5.7200e+02, 5.5000e+02, 6.4900e+02, 8.8000e+02, 1.0450e+03,\n",
       "        1.5510e+03, 2.0790e+03, 3.3000e+03, 7.6120e+03, 2.9293e+04,\n",
       "        2.0328e+04, 8.3600e+03, 3.9050e+03, 1.9360e+03, 9.7900e+02,\n",
       "        4.6200e+02, 3.6300e+02, 1.5400e+02, 9.9000e+01, 1.2100e+02,\n",
       "        2.2000e+01, 2.2000e+01, 2.2000e+01, 0.0000e+00]),\n",
       " array([0.        , 0.03448276, 0.06896552, 0.10344828, 0.13793103,\n",
       "        0.17241379, 0.20689655, 0.24137931, 0.27586207, 0.31034483,\n",
       "        0.34482759, 0.37931034, 0.4137931 , 0.44827586, 0.48275862,\n",
       "        0.51724138, 0.55172414, 0.5862069 , 0.62068966, 0.65517241,\n",
       "        0.68965517, 0.72413793, 0.75862069, 0.79310345, 0.82758621,\n",
       "        0.86206897, 0.89655172, 0.93103448, 0.96551724, 1.        ]),\n",
       " <a list of 1 Patch objects>)"
      ]
     },
     "execution_count": 48,
     "metadata": {},
     "output_type": "execute_result"
    },
    {
     "data": {
      "image/png": "[encoded data removed]",
      "text/plain": [
       "<matplotlib.figure.Figure at 0x10ed1510>"
      ]
     },
     "metadata": {},
     "output_type": "display_data"
    }
   ],
   "source": [
    "bins = np.linspace(0, 1, 30)\n",
    "plt.hist(yhat_val[y_val == 0], color='red', bins=bins, histtype='step')\n",
    "plt.hist(yhat_val[y_val == 1], color='blue', bins=bins, histtype='step')"
   ]
  },
  {
   "cell_type": "code",
   "execution_count": 49,
   "metadata": {},
   "outputs": [
    {
     "data": {
      "text/plain": [
       "(array([1.1000e+01, 1.1000e+01, 1.1000e+01, 4.4000e+01, 2.2000e+01,\n",
       "        8.8000e+01, 6.6000e+01, 8.8000e+01, 1.3200e+02, 2.5300e+02,\n",
       "        5.5000e+02, 1.0010e+03, 2.2330e+03, 5.5440e+03, 2.8996e+04,\n",
       "        2.2913e+04, 1.0043e+04, 5.4890e+03, 3.2120e+03, 1.9580e+03,\n",
       "        1.3750e+03, 7.3700e+02, 4.7300e+02, 3.4100e+02, 2.5300e+02,\n",
       "        1.3200e+02, 1.2100e+02, 0.0000e+00, 0.0000e+00]),\n",
       " array([0.        , 0.03448276, 0.06896552, 0.10344828, 0.13793103,\n",
       "        0.17241379, 0.20689655, 0.24137931, 0.27586207, 0.31034483,\n",
       "        0.34482759, 0.37931034, 0.4137931 , 0.44827586, 0.48275862,\n",
       "        0.51724138, 0.55172414, 0.5862069 , 0.62068966, 0.65517241,\n",
       "        0.68965517, 0.72413793, 0.75862069, 0.79310345, 0.82758621,\n",
       "        0.86206897, 0.89655172, 0.93103448, 0.96551724, 1.        ]),\n",
       " <a list of 1 Patch objects>)"
      ]
     },
     "execution_count": 49,
     "metadata": {},
     "output_type": "execute_result"
    },
    {
     "data": {
      "image/png": "[encoded data removed]",
      "text/plain": [
       "<matplotlib.figure.Figure at 0x10ed5850>"
      ]
     },
     "metadata": {},
     "output_type": "display_data"
    }
   ],
   "source": [
    "bins = np.linspace(0, 1, 30)\n",
    "plt.hist(yhat_train[y_train == 0], color='red', bins=bins, histtype='step')\n",
    "plt.hist(yhat_train[y_train == 1], color='blue', bins=bins, histtype='step')"
   ]
  },
  {
   "cell_type": "markdown",
   "metadata": {},
   "source": [
    "# Design n_track Model"
   ]
  },
  {
   "cell_type": "code",
   "execution_count": 59,
   "metadata": {},
   "outputs": [
    {
     "data": {
      "image/png": "[encoded data removed]",
      "text/plain": [
       "<matplotlib.figure.Figure at 0x7fe50802d3d0>"
      ]
     },
     "metadata": {},
     "output_type": "display_data"
    }
   ],
   "source": [
    "bins = np.linspace(-0.5, 1.1, 30)\n",
    "_ = plt.hist(X_ntrack_train[y_train == 0, 0], color='red', bins=bins, histtype='step')\n",
    "_ = plt.hist(X_ntrack_train[y_train == 1, 0], color='blue', bins=bins, histtype='step')"
   ]
  },
  {
   "cell_type": "code",
   "execution_count": 58,
   "metadata": {},
   "outputs": [
    {
     "data": {
      "image/png": "[encoded data removed]",
      "text/plain": [
       "<matplotlib.figure.Figure at 0xf6b1490>"
      ]
     },
     "metadata": {},
     "output_type": "display_data"
    }
   ],
   "source": [
    "bins = np.linspace(-0.5, 1.1, 30)\n",
    "_ = plt.hist(X_ntrack_train[y_train == 0, 1], color='red', bins=bins, histtype='step')\n",
    "_ = plt.hist(X_ntrack_train[y_train == 1, 1], color='blue', bins=bins, histtype='step')"
   ]
  },
  {
   "cell_type": "code",
   "execution_count": 63,
   "metadata": {},
   "outputs": [
    {
     "data": {
      "text/plain": [
       "(array([2.2000e+01, 1.1000e+01, 6.6000e+01, 7.7000e+01, 9.9000e+01,\n",
       "        1.8700e+02, 2.8600e+02, 5.8300e+02, 6.8200e+02, 1.2760e+03,\n",
       "        2.0350e+03, 3.3330e+03, 6.5340e+03, 1.1000e+04, 2.3826e+04,\n",
       "        1.3310e+04, 8.4480e+03, 5.3570e+03, 3.5640e+03, 2.3980e+03,\n",
       "        1.3310e+03, 9.1300e+02, 4.0700e+02, 1.6500e+02, 5.5000e+01,\n",
       "        6.6000e+01, 2.2000e+01, 1.1000e+01, 1.1000e+01]),\n",
       " array([-0.2       , -0.1862069 , -0.17241379, -0.15862069, -0.14482759,\n",
       "        -0.13103448, -0.11724138, -0.10344828, -0.08965517, -0.07586207,\n",
       "        -0.06206897, -0.04827586, -0.03448276, -0.02068966, -0.00689655,\n",
       "         0.00689655,  0.02068966,  0.03448276,  0.04827586,  0.06206897,\n",
       "         0.07586207,  0.08965517,  0.10344828,  0.11724138,  0.13103448,\n",
       "         0.14482759,  0.15862069,  0.17241379,  0.1862069 ,  0.2       ]),\n",
       " <a list of 1 Patch objects>)"
      ]
     },
     "execution_count": 63,
     "metadata": {},
     "output_type": "execute_result"
    },
    {
     "data": {
      "image/png": "[encoded data removed]",
      "text/plain": [
       "<matplotlib.figure.Figure at 0x121ab410>"
      ]
     },
     "metadata": {},
     "output_type": "display_data"
    }
   ],
   "source": [
    "bins = np.linspace(-0.2, 0.2, 30)\n",
    "plt.hist(X_ntrack_train[y_train == 0, 0] * X_ntrack_train[y_train == 0, 1], color='red', bins=bins, histtype='step')\n",
    "plt.hist(X_ntrack_train[y_train == 1, 0] * X_ntrack_train[y_train == 1, 1], color='blue', bins=bins, histtype='step')"
   ]
  },
  {
   "cell_type": "code",
   "execution_count": 66,
   "metadata": {},
   "outputs": [
    {
     "data": {
      "image/png": "[encoded data removed]",
      "text/plain": [
       "<matplotlib.figure.Figure at 0x137e97d0>"
      ]
     },
     "metadata": {},
     "output_type": "display_data"
    }
   ],
   "source": [
    "bins = np.linspace(-1.0, 1.2, 30)\n",
    "_ = plt.hist(X_ntrack_train[y_train == 0, 0] + X_ntrack_train[y_train == 0, 1], color='red', bins=bins, histtype='step')\n",
    "_ = plt.hist(X_ntrack_train[y_train == 1, 0] + X_ntrack_train[y_train == 1, 1], color='blue', bins=bins, histtype='step')"
   ]
  },
  {
   "cell_type": "code",
   "execution_count": 67,
   "metadata": {},
   "outputs": [
    {
     "data": {
      "image/png": "[encoded data removed]",
      "text/plain": [
       "<matplotlib.figure.Figure at 0x117bfed0>"
      ]
     },
     "metadata": {},
     "output_type": "display_data"
    }
   ],
   "source": [
    "bins = np.linspace(-1.0, 1.2, 30)\n",
    "_ = plt.hist(X_ntrack_val[y_val == 0, 0] + X_ntrack_val[y_val == 0, 1], color='red', bins=bins, histtype='step')\n",
    "_ = plt.hist(X_ntrack_val[y_val == 1, 0] + X_ntrack_val[y_val == 1, 1], color='blue', bins=bins, histtype='step')"
   ]
  },
  {
   "cell_type": "code",
   "execution_count": 156,
   "metadata": {},
   "outputs": [],
   "source": [
    "x = Input(X_ntrack_train.shape[1:])\n",
    "h = Dense(20, activation='relu')(x)\n",
    "h = Dropout(0.2)(h)\n",
    "h = Dense(20, activation='relu')(h)\n",
    "h = Dropout(0.2)(h)\n",
    "h = Dense(128, activation='relu')(h)\n",
    "h = Dropout(0.2)(h)\n",
    "h = Dense(128, activation='relu')(h)\n",
    "h = Dropout(0.2)(h)\n",
    "h = Dense(20, activation='relu')(h)\n",
    "h = Dropout(0.2)(h)\n",
    "out = Dense(1, activation='sigmoid')(h)"
   ]
  },
  {
   "cell_type": "code",
   "execution_count": 157,
   "metadata": {},
   "outputs": [],
   "source": [
    "ntrack_model = Model(x, out)"
   ]
  },
  {
   "cell_type": "code",
   "execution_count": 159,
   "metadata": {},
   "outputs": [],
   "source": [
    "ntrack_model.compile('RMSProp', 'binary_crossentropy')"
   ]
  },
  {
   "cell_type": "code",
   "execution_count": 160,
   "metadata": {},
   "outputs": [
    {
     "name": "stdout",
     "output_type": "stream",
     "text": [
      "Train on 171503 samples, validate on 171727 samples\n",
      "Epoch 1/200\n",
      "171503/171503 [==============================] - 11s 63us/step - loss: 0.6910 - val_loss: 0.6904\n",
      "\n",
      "Epoch 00001: val_loss improved from inf to 0.69044, saving model to ntrack_best.h5\n",
      "Epoch 2/200\n",
      "171503/171503 [==============================] - 9s 52us/step - loss: 0.6905 - val_loss: 0.6903\n",
      "\n",
      "Epoch 00002: val_loss improved from 0.69044 to 0.69034, saving model to ntrack_best.h5\n",
      "Epoch 3/200\n",
      "171503/171503 [==============================] - 8s 49us/step - loss: 0.6905 - val_loss: 0.6902\n",
      "\n",
      "Epoch 00003: val_loss improved from 0.69034 to 0.69018, saving model to ntrack_best.h5\n",
      "Epoch 4/200\n",
      "171503/171503 [==============================] - 9s 52us/step - loss: 0.6904 - val_loss: 0.6904\n",
      "\n",
      "Epoch 00004: val_loss did not improve\n",
      "Epoch 5/200\n",
      "171503/171503 [==============================] - 9s 51us/step - loss: 0.6907 - val_loss: 0.6908\n",
      "\n",
      "Epoch 00005: val_loss did not improve\n",
      "Epoch 6/200\n",
      "171503/171503 [==============================] - 8s 49us/step - loss: 0.6905 - val_loss: 0.6904\n",
      "\n",
      "Epoch 00006: val_loss did not improve\n",
      "Epoch 7/200\n",
      "171503/171503 [==============================] - 9s 55us/step - loss: 0.6904 - val_loss: 0.6905\n",
      "\n",
      "Epoch 00007: val_loss did not improve\n",
      "Epoch 8/200\n",
      "171503/171503 [==============================] - 9s 51us/step - loss: 0.6906 - val_loss: 0.6906\n",
      "\n",
      "Epoch 00008: val_loss did not improve\n",
      "Epoch 9/200\n",
      "171503/171503 [==============================] - 9s 54us/step - loss: 0.6905 - val_loss: 0.6907\n",
      "\n",
      "Epoch 00009: val_loss did not improve\n",
      "Epoch 10/200\n",
      "171503/171503 [==============================] - 9s 53us/step - loss: 0.6906 - val_loss: 0.6904\n",
      "\n",
      "Epoch 00010: val_loss did not improve\n",
      "Epoch 11/200\n",
      "171503/171503 [==============================] - 9s 52us/step - loss: 0.6905 - val_loss: 0.6914\n",
      "\n",
      "Epoch 00011: val_loss did not improve\n",
      "Epoch 12/200\n",
      "171503/171503 [==============================] - 9s 50us/step - loss: 0.6908 - val_loss: 0.6905\n",
      "\n",
      "Epoch 00012: val_loss did not improve\n",
      "Epoch 13/200\n",
      "171503/171503 [==============================] - 9s 50us/step - loss: 0.6906 - val_loss: 0.6907\n",
      "\n",
      "Epoch 00013: val_loss did not improve\n",
      "Epoch 14/200\n",
      "171503/171503 [==============================] - 9s 54us/step - loss: 0.6905 - val_loss: 0.6935\n",
      "\n",
      "Epoch 00014: val_loss did not improve\n",
      "Epoch 15/200\n",
      "171503/171503 [==============================] - 9s 55us/step - loss: 0.6911 - val_loss: 0.6911\n",
      "\n",
      "Epoch 00015: val_loss did not improve\n",
      "Epoch 16/200\n",
      "171503/171503 [==============================] - 9s 53us/step - loss: 0.6909 - val_loss: 0.6908\n",
      "\n",
      "Epoch 00016: val_loss did not improve\n",
      "Epoch 17/200\n",
      "171503/171503 [==============================] - 8s 49us/step - loss: 0.6908 - val_loss: 0.6903\n",
      "\n",
      "Epoch 00017: val_loss did not improve\n",
      "Epoch 18/200\n",
      "171503/171503 [==============================] - 9s 50us/step - loss: 0.6909 - val_loss: 0.6903\n",
      "\n",
      "Epoch 00018: val_loss did not improve\n",
      "Epoch 19/200\n",
      "171503/171503 [==============================] - 9s 53us/step - loss: 0.6907 - val_loss: 0.6905\n",
      "\n",
      "Epoch 00019: val_loss did not improve\n",
      "Epoch 20/200\n",
      "171503/171503 [==============================] - 9s 54us/step - loss: 0.6909 - val_loss: 0.6917\n",
      "\n",
      "Epoch 00020: val_loss did not improve\n",
      "Epoch 21/200\n",
      "171503/171503 [==============================] - 9s 52us/step - loss: 0.6909 - val_loss: 0.6903\n",
      "\n",
      "Epoch 00021: val_loss did not improve\n",
      "Epoch 22/200\n",
      "171503/171503 [==============================] - 9s 54us/step - loss: 0.6905 - val_loss: 0.6916\n",
      "\n",
      "Epoch 00022: val_loss did not improve\n",
      "Epoch 23/200\n",
      "171503/171503 [==============================] - 9s 53us/step - loss: 0.6912 - val_loss: 0.6911\n",
      "\n",
      "Epoch 00023: val_loss did not improve\n",
      "Epoch 00023: early stopping\n"
     ]
    },
    {
     "data": {
      "text/plain": [
       "<keras.callbacks.History at 0x2c59ef10>"
      ]
     },
     "execution_count": 160,
     "metadata": {},
     "output_type": "execute_result"
    }
   ],
   "source": [
    "ntrack_model.fit(X_ntrack_train, y_train, sample_weight=w_train.ravel(), verbose=1, batch_size=100,\n",
    "                    validation_data=(X_ntrack_val, y_val, w_val.ravel()),\n",
    "                    callbacks=[\n",
    "                        ModelCheckpoint('ntrack_best.h5', monitor='val_loss', verbose=1, save_best_only=True),\n",
    "                        EarlyStopping(monitor='val_loss', patience=20, verbose=1)\n",
    "\n",
    "                    ],\n",
    "                    epochs=200)"
   ]
  },
  {
   "cell_type": "code",
   "execution_count": 161,
   "metadata": {},
   "outputs": [
    {
     "name": "stdout",
     "output_type": "stream",
     "text": [
      "171727/171727 [==============================] - 1s 6us/step\n"
     ]
    }
   ],
   "source": [
    "yhat_ntrack_val = ntrack_model.predict(X_ntrack_val, batch_size=1024, verbose=1)"
   ]
  },
  {
   "cell_type": "code",
   "execution_count": 162,
   "metadata": {},
   "outputs": [
    {
     "name": "stdout",
     "output_type": "stream",
     "text": [
      "171503/171503 [==============================] - 0s 2us/step\n"
     ]
    }
   ],
   "source": [
    "yhat_ntrack_train = ntrack_model.predict(X_ntrack_train, batch_size=1024, verbose=1)"
   ]
  },
  {
   "cell_type": "code",
   "execution_count": 163,
   "metadata": {},
   "outputs": [
    {
     "data": {
      "image/png": "[encoded data removed]",
      "text/plain": [
       "<matplotlib.figure.Figure at 0x1a579110>"
      ]
     },
     "metadata": {},
     "output_type": "display_data"
    }
   ],
   "source": [
    "bins = np.linspace(0, 1, 50)\n",
    "_ = plt.hist(yhat_ntrack_val[y_val == 0], color='red', bins=bins, histtype='step', weights=w_val[y_val == 0])\n",
    "_ = plt.hist(yhat_ntrack_val[y_val == 1], color='blue', bins=bins, histtype='step', weights=w_val[y_val == 1])"
   ]
  },
  {
   "cell_type": "code",
   "execution_count": 200,
   "metadata": {},
   "outputs": [],
   "source": [
    "batch_size = 100\n",
    "batched_0 = []\n",
    "batched_1 = []\n",
    "for n in range(sum(y_val == 0)/batch_size):\n",
    "    batched_0.append(np.prod(yhat_ntrack_val[y_val == 0][n*batch_size: (n+1)*batch_size]))\n",
    "for n in range(sum(y_val == 1)/batch_size): \n",
    "    batched_1.append(np.prod(yhat_ntrack_val[y_val == 1][n*batch_size: (n+1)*batch_size]))"
   ]
  },
  {
   "cell_type": "code",
   "execution_count": 201,
   "metadata": {},
   "outputs": [
    {
     "data": {
      "image/png": "[encoded data removed]",
      "text/plain": [
       "<matplotlib.figure.Figure at 0x2e5f6d10>"
      ]
     },
     "metadata": {},
     "output_type": "display_data"
    }
   ],
   "source": [
    "bins = np.linspace(min(min(batched_0), min(batched_1)), max(max(batched_0), max(batched_1)), 10)\n",
    "_ = plt.hist(batched_0, color='red', histtype='step', bins=bins)\n",
    "_ = plt.hist(batched_1, color='blue', histtype='step', bins=bins)"
   ]
  },
  {
   "cell_type": "code",
   "execution_count": 202,
   "metadata": {},
   "outputs": [
    {
     "data": {
      "text/plain": [
       "0.8343550207865228"
      ]
     },
     "execution_count": 202,
     "metadata": {},
     "output_type": "execute_result"
    }
   ],
   "source": [
    "from sklearn.metrics import roc_auc_score\n",
    "roc_auc_score(\n",
    "    np.concatenate((np.zeros_like(batched_0), np.ones_like(batched_1))),\n",
    "    np.concatenate((batched_0, batched_1)))"
   ]
  },
  {
   "cell_type": "code",
   "execution_count": null,
   "metadata": {},
   "outputs": [],
   "source": []
  }
 ],
 "metadata": {
  "kernelspec": {
   "display_name": "Python 2",
   "language": "python",
   "name": "python2"
  },
  "language_info": {
   "codemirror_mode": {
    "name": "ipython",
    "version": 2
   },
   "file_extension": ".py",
   "mimetype": "text/x-python",
   "name": "python",
   "nbconvert_exporter": "python",
   "pygments_lexer": "ipython2",
   "version": "2.7.5"
  }
 },
 "nbformat": 4,
 "nbformat_minor": 2
}
